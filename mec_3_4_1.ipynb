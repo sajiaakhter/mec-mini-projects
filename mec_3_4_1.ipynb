{
  "nbformat": 4,
  "nbformat_minor": 0,
  "metadata": {
    "colab": {
      "name": "mec_3_4_1.ipynb",
      "provenance": [],
      "collapsed_sections": [],
      "authorship_tag": "ABX9TyO/Ien5QeG6c2Ch9y4jUchY",
      "include_colab_link": true
    },
    "kernelspec": {
      "name": "python3",
      "display_name": "Python 3"
    },
    "language_info": {
      "name": "python"
    }
  },
  "cells": [
    {
      "cell_type": "markdown",
      "metadata": {
        "id": "view-in-github",
        "colab_type": "text"
      },
      "source": [
        "<a href=\"https://colab.research.google.com/github/sajiaakhter/mec-mini-projects/blob/master/mec_3_4_1.ipynb\" target=\"_parent\"><img src=\"https://colab.research.google.com/assets/colab-badge.svg\" alt=\"Open In Colab\"/></a>"
      ]
    },
    {
      "cell_type": "code",
      "execution_count": 2,
      "metadata": {
        "id": "R6KyHa6vhWyi"
      },
      "outputs": [],
      "source": [
        "import os\n"
      ]
    },
    {
      "cell_type": "code",
      "source": [
        "import requests\n",
        "\n",
        "# 1. Collect data from the Franfurt Stock Exchange, for the ticker AFX_X, for the whole year 2017\n",
        "\n",
        "r = requests.get(\"https://data.nasdaq.com/api/v3/datasets/FSE/AFX_X.json?start_date=2017-01-01&end_date=2017-12-31&api_key=UzGAZLuJXmibxvy2fYH8\", auth=('sajiaakhter@gmail.com', 'Kallumoni22?'))\n",
        "jObj = r.json()\n",
        "\n",
        "# 2. Convert the returned JSON object into a Python dictionary.\n",
        "dataDict = dict(jObj['dataset'])\n",
        "\n",
        "data = {}\n",
        "for column in dataDict['column_names']:\n",
        "  data[column] = []\n",
        "\n",
        "for index in dataDict['data']:\n",
        "  for i in range(0, len(dataDict['column_names'])):\n",
        "    data[dataDict['column_names'][i]].append(index[i])\n",
        "\n",
        "# 3. Calculate what the highest and lowest opening prices were for the stock in this period\n",
        "highestOpeningPrice = 0\n",
        "lowestOpeningPrice = 1000000000\n",
        "\n",
        "for i in data['Open']:\n",
        "  if type(i)==float: \n",
        "    if highestOpeningPrice < i: highestOpeningPrice = i\n",
        "    if lowestOpeningPrice > i: lowestOpeningPrice = i\n",
        "\n",
        "print(highestOpeningPrice,lowestOpeningPrice)\n",
        "\n",
        "#4. What was the largest change in any one day (based on High and Low price)?\n",
        "change = 0\n",
        "for i in range(0,len(data['High'])):\n",
        "  high = data['High'][i]\n",
        "  low = data['Low'][i]\n",
        "  if type(high) == float and type(low) == float:\n",
        "    if change < (high - low): change = high - low\n",
        "\n",
        "print(change)\n",
        "\n",
        "#5. What was the largest change between any two days (based on Closing Price)?\n",
        "closingPrice = sorted(data['Close'])\n",
        "largestChange = closingPrice[len(closingPrice)-1] - closingPrice[0]\n",
        "print(largestChange)\n",
        "\n",
        "#6. What was the average daily trading volume during this year?\n",
        "totalTradingVol = 0\n",
        "total = 0\n",
        "for i in data['Traded Volume']:\n",
        "  if type(i) == float:\n",
        "    totalTradingVol +=i\n",
        "    total += 1\n",
        "avgTradingVol = totalTradingVol/total\n",
        "print(avgTradingVol)\n",
        "\n",
        "#7. What was the median trading volume during this year\n",
        "allTradingVol = sorted(data['Traded Volume'])\n",
        "total = len(allTradingVol)\n",
        "\n",
        "medTradingVol = allTradingVol[int(total/2)]\n",
        "if total%2 == 0:\n",
        "   medTradingVol = (allTradingVol[int(total/2)-1]+allTradingVol[int(total/2)])/2.0\n",
        "\n",
        "print(medTradingVol)\n",
        "\n"
      ],
      "metadata": {
        "colab": {
          "base_uri": "https://localhost:8080/"
        },
        "id": "6taIhyMdxRA6",
        "outputId": "d3ddeee8-0e78-410d-ac64-25958b164a53"
      },
      "execution_count": 68,
      "outputs": [
        {
          "output_type": "stream",
          "name": "stdout",
          "text": [
            "53.11 34.0\n",
            "2.8100000000000023\n",
            "19.03\n",
            "89124.33725490196\n",
            "76286.0 76286.0\n"
          ]
        }
      ]
    }
  ]
}
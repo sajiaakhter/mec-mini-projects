{
  "nbformat": 4,
  "nbformat_minor": 0,
  "metadata": {
    "colab": {
      "name": "Mini_Project_5_3_13.ipynb",
      "provenance": [],
      "collapsed_sections": [],
      "authorship_tag": "ABX9TyPRVwOIKirBE+DYFclveS29",
      "include_colab_link": true
    },
    "kernelspec": {
      "name": "python3",
      "display_name": "Python 3"
    },
    "language_info": {
      "name": "python"
    }
  },
  "cells": [
    {
      "cell_type": "markdown",
      "metadata": {
        "id": "view-in-github",
        "colab_type": "text"
      },
      "source": [
        "<a href=\"https://colab.research.google.com/github/sajiaakhter/mec-mini-projects/blob/master/Mini_Project_5_3_13.ipynb\" target=\"_parent\"><img src=\"https://colab.research.google.com/assets/colab-badge.svg\" alt=\"Open In Colab\"/></a>"
      ]
    },
    {
      "cell_type": "code",
      "execution_count": 3,
      "metadata": {
        "id": "AY6c6heTIvMN"
      },
      "outputs": [],
      "source": [
        "import pandas as pd\n",
        "import matplotlib.pyplot as plt\n",
        "\n",
        "%matplotlib inline\n",
        "      \n",
        "path = \"https://raw.githubusercontent.com/springboard-curriculum/mec-mini-projects/bfa33829077314a600472c0c2be850c6e07d960b/mec-5.3.10-data-wranging-with-pandas-mini-project/titles.csv\"\n",
        "movies = pd.read_csv(path)\n",
        "\n",
        "path_cast = \"https://raw.githubusercontent.com/springboard-curriculum/mec-mini-projects/bfa33829077314a600472c0c2be850c6e07d960b/mec-5.3.10-data-wranging-with-pandas-mini-project/cast.csv.zip\"\n",
        "cast = pd.read_csv(path_cast)\n",
        "\n",
        "\n",
        "path_release = \"https://raw.githubusercontent.com/springboard-curriculum/mec-mini-projects/bfa33829077314a600472c0c2be850c6e07d960b/mec-5.3.10-data-wranging-with-pandas-mini-project/release_dates.csv\"\n",
        "release_dates = pd.read_csv(path_release, parse_dates=['date'], infer_datetime_format=True)\n"
      ]
    },
    {
      "cell_type": "code",
      "source": [
        "\n",
        "#Section I - Q1 : List all the 'Harry Potter' movies from the most recent to the earliest\n",
        "harry_potter = movies[movies.title.str.contains('Harry Potter', case=False)]\n",
        "sorted_harry_potter = harry_potter.sort_values(by=['year'], ascending=False)\n",
        "\n",
        "#print('total harry potter movies: ', len(sorted_harry_potter))\n",
        "print(sorted_harry_potter)\n",
        "\n",
        "#Section I - Q2 : How many movies were made in the year 2015?\n",
        "print(\"total movies in 2015 = \", len(movies[movies.year == 2015]))\n",
        "\n",
        "#Section I - Q3 : How many movies were made from 2000 till 2018?\n",
        "movies_2000_2028 = movies[(movies.year >= 2000) & (movies.year <=2018)]\n",
        "print(\"total movies from 2000 till 2018 = \", len(movies_2000_2028))\n",
        "\n",
        "#Section I - Q4: How many movies are titled \"Hamlet\"?\n",
        "print(\"number of movies title with Hamlet: \",len(movies[movies.title.str.contains(\"Hamlet\", case = False)]))\n"
      ],
      "metadata": {
        "colab": {
          "base_uri": "https://localhost:8080/"
        },
        "id": "HYlG9uTCC5FA",
        "outputId": "906da038-c1b0-4061-a0c2-341376c63b6f"
      },
      "execution_count": 2,
      "outputs": [
        {
          "output_type": "stream",
          "name": "stdout",
          "text": [
            "                                               title  year\n",
            "143147  Harry Potter and the Deathly Hallows: Part 2  2011\n",
            "152831  Harry Potter and the Deathly Hallows: Part 1  2010\n",
            "109213        Harry Potter and the Half-Blood Prince  2009\n",
            "50581      Harry Potter and the Order of the Phoenix  2007\n",
            "187926           Harry Potter and the Goblet of Fire  2005\n",
            "61957       Harry Potter and the Prisoner of Azkaban  2004\n",
            "82791        Harry Potter and the Chamber of Secrets  2002\n",
            "223087         Harry Potter and the Sorcerer's Stone  2001\n",
            "total movies in 2015 =  8702\n",
            "total movies from 2000 till 2018 =  114070\n",
            "number of movies title with Hamlet:  57\n"
          ]
        }
      ]
    },
    {
      "cell_type": "code",
      "source": [
        "#Section I - Q5: List all movies titled \"Hamlet\"\n",
        "movies_hamlet = movies[(movies.title.str.contains(\"Hamlet\", case = False)) & (movies.year >= 2000)]\n",
        "sorted_movies_hamlet = movies_hamlet.sort_values(by=['year'], ascending = True)\n",
        "print(\"all movies title with Hamlet from 2000: \", sorted_movies_hamlet)\n",
        "\n",
        "#Section I - Q6: How many roles in the movie \"Inception\" are of the supporting cast (extra credits)\n",
        "cast_inception = cast[(cast.title =='Inception') & (cast.n.isnull())]\n",
        "print(\"Supporting cast in inception: \", len(cast_inception))\n",
        "\n",
        "#Section I - Q7: How many roles in the movie \"Inception\" are of the main cast\n",
        "cast_inception_main = cast[(cast.title =='Inception') & (cast.n.notnull())]\n",
        "print(\"Main cast in inception: \", len(cast_inception_main))\n",
        "\n",
        "#Section I - Q8: Show the top ten cast (actors\\actresses) in the movie \"Inception\"\n",
        "print('Top 10 cast in the movie Inception', cast_inception_main.sort_values(by=['n'],ascending=False).iloc[:10])\n",
        "\n"
      ],
      "metadata": {
        "colab": {
          "base_uri": "https://localhost:8080/"
        },
        "id": "3WQfEq7UDH3l",
        "outputId": "9c8a9dda-b446-4c17-b8bf-fea7612a6859"
      },
      "execution_count": 3,
      "outputs": [
        {
          "output_type": "stream",
          "name": "stdout",
          "text": [
            "all movies title with Hamlet from 2000:                                            title  year\n",
            "55639                                    Hamlet  2000\n",
            "55525                    Hamlet in the Hamptons  2002\n",
            "137905                                 Hamlet_X  2003\n",
            "218468                                 Hamlet X  2004\n",
            "40045                               Hamlet (II)  2005\n",
            "152920          Dogg's Hamlet, Cahoot's Macbeth  2005\n",
            "200246  The Tragedy of Hamlet Prince of Denmark  2007\n",
            "176528                              Hamlet (II)  2007\n",
            "156899                             Hamlet (III)  2007\n",
            "52408                 Hamlet the Vampire Slayer  2008\n",
            "141237                                 Hamlet 2  2008\n",
            "191734                           Kitchen Hamlet  2009\n",
            "1931                                     Hamlet  2009\n",
            "227953                                   Hamlet  2011\n",
            "220674                     Hamlet Demonstration  2011\n",
            "51236                            Hamlet Unbound  2012\n",
            "17833                             Zombie Hamlet  2012\n",
            "186136                      Harry, Hamlet and I  2013\n",
            "178290                                   Hamlet  2014\n",
            "10364                             Hamlet A.D.D.  2014\n",
            "186137                                   Hamlet  2015\n",
            "133802            National Theatre Live: Hamlet  2015\n",
            "44571                               Hamlet (II)  2015\n",
            "17531                            Hamlet's Ghost  2015\n",
            "209533                 Hamlet, Son of a Kingpin  2015\n",
            "70547         Royal Shakespeare Company: Hamlet  2016\n",
            "191940                                   Hamlet  2016\n",
            "98329                               Hamlet (II)  2017\n",
            "50271                            Hamlet/Horatio  2017\n",
            "240089                Hamlet in the Golden Vale  2017\n",
            "244747                                   Hamlet  2017\n",
            "78217             Hamlet: The Fall of a Sparrow  2018\n",
            "Supporting cast in inception:  27\n",
            "Main cast in inception:  51\n",
            "Top 10 cast in the movie Inception              title  year  ...              character     n\n",
            "3731263  Inception  2010  ...                Old Mal  51.0\n",
            "833376   Inception  2010  ...               Old Cobb  50.0\n",
            "2250605  Inception  2010  ...       Fischer's Driver  49.0\n",
            "3473041  Inception  2010  ...          Private Nurse  48.0\n",
            "1812091  Inception  2010  ...            Businessman  47.0\n",
            "2049179  Inception  2010  ...            Businessman  46.0\n",
            "807795   Inception  2010  ...    Immigration Officer  45.0\n",
            "149008   Inception  2010  ...  Fischer's Jet Captain  44.0\n",
            "3444628  Inception  2010  ...          Lobby Sub Con  43.0\n",
            "3203564  Inception  2010  ...          Lobby Sub Con  42.0\n",
            "\n",
            "[10 rows x 6 columns]\n"
          ]
        }
      ]
    },
    {
      "cell_type": "code",
      "source": [
        "'''\n",
        "Section I - Q9:\n",
        "(A) List all movies where there was a character 'Albus Dumbledore'\n",
        "\n",
        "(B) Now modify the above to show only the actors who played the character 'Albus Dumbledore'\n",
        "\n",
        "For Part (B) remember the same actor might play the same role in multiple movies\n",
        "'''\n",
        "cast_Dumbledore = cast[cast.character.str.contains('Albus Dumbledore',case=False)]\n",
        "print('all movies where there was a character Albus Dumbledore: ', cast_Dumbledore.title)\n",
        "print('the actors who played the character Albus Dumbledore: ', cast_Dumbledore.name.unique())\n",
        "\n",
        "'''\n",
        "Section I - Q10:\n",
        "(A) How many roles has Keanu Reeves played throughout his career?\n",
        "\n",
        "(B) List the leading roles that Keanu Reeves played on or after 1999 in order by year.\n",
        "'''\n",
        "cast_keanu = cast[cast.name.str.fullmatch('Keanu Reeves',case=False)]\n",
        "print('#roles Keanu Reeves played:', len(cast_keanu))\n",
        "cast_keanu_lead_1999 = cast_keanu[(cast_keanu.n == 1) & (cast_keanu.year >=1999)]\n",
        "print('leading roles that \\'Keanu Reeves\\' played on or after 1999 in order by year:',cast_keanu_lead_1999)\n",
        "\n",
        "'''\n",
        "Section I - Q11:\n",
        "(A) List the total number of actor and actress roles available from 1950 - 1960\n",
        "\n",
        "(B) List the total number of actor and actress roles available from 2007 - 2017 \n",
        "'''\n",
        "#print(cast.type.unique())\n",
        "total_actor_actress_50_60 = cast[ (cast.year >=1950) & (cast.year <= 1960) ]\n",
        "print('List the total number of actor and actress roles available from 1950 - 1960', len(total_actor_actress_50_60))\n",
        "print(total_actor_actress_50_60)\n",
        "\n",
        "#total_actor_actress_07_17 = cast[(cast.type.str.fullmatch('actor')) & (cast.type.str.fullmatch('actress')) & (cast.year >=2007) & (cast.year <= 2017) ]\n",
        "#total_actor_actress_07_17 = cast[(cast.type=='actor') & (cast.type=='actress') & (cast.year >=2007) & (cast.year <= 2017) ]\n",
        "total_actor_actress_07_17 = cast[(cast.year >=2007) & (cast.year <= 2017) ]\n",
        "print('List the total number of actor and actress roles available from 2007 - 2017', len(total_actor_actress_07_17))\n",
        "print(total_actor_actress_07_17)\n",
        "\n",
        "'''\n",
        "Section I - Q12:\n",
        "(A) List the total number of leading roles available from 2000 to present\n",
        "\n",
        "(B) List the total number of non-leading roles available from 2000 - present (exclude support cast)\n",
        "\n",
        "(C) List the total number of support\\extra-credit roles available from 2000 - present\n",
        "'''\n",
        "leading_role = cast[(cast.n.notnull()) & (cast.n == 1) & (cast.year >= 2000)]\n",
        "print('List the total number of leading roles available from 2000 to present:',len(leading_role))\n",
        "\n",
        "nonleading_role = cast[(cast.n.notnull()) & (cast.n > 1) & (cast.year >= 2000)]\n",
        "print('List the total number of nonleading roles available from 2000 to present:',len(nonleading_role))\n",
        "\n",
        "supporting_role = cast[(cast.n.isnull()) & (cast.year >= 2000)]\n",
        "print('List the total number of support roles available from 2000 to present:',len(supporting_role))\n"
      ],
      "metadata": {
        "colab": {
          "base_uri": "https://localhost:8080/"
        },
        "id": "8h5fjdFTDY84",
        "outputId": "e733cab7-5fb2-44b6-a66d-72f8e6f01d39"
      },
      "execution_count": 82,
      "outputs": [
        {
          "output_type": "stream",
          "name": "stdout",
          "text": [
            "all movies where there was a character Albus Dumbledore:  704984                                       Epic Movie\n",
            "792419     Harry Potter and the Deathly Hallows: Part 1\n",
            "792420     Harry Potter and the Deathly Hallows: Part 2\n",
            "792421              Harry Potter and the Goblet of Fire\n",
            "792422           Harry Potter and the Half-Blood Prince\n",
            "792423        Harry Potter and the Order of the Phoenix\n",
            "792424         Harry Potter and the Prisoner of Azkaban\n",
            "947789          Harry Potter and the Chamber of Secrets\n",
            "947790            Harry Potter and the Sorcerer's Stone\n",
            "1685537                           Ultimate Hero Project\n",
            "1893421    Harry Potter and the Deathly Hallows: Part 1\n",
            "2248085                                          Potter\n",
            "Name: title, dtype: object\n",
            "the actors who played the character Albus Dumbledore:  ['Dane Farwell' 'Michael Gambon' 'Richard Harris' \"George (X) O'Connor\"\n",
            " 'Toby Regbo' 'Timothy Tedmanson']\n",
            "#roles Keanu Reeves played: 62\n",
            "leading roles that 'Keanu Reeves' played on or after 1999 in order by year: Empty DataFrame\n",
            "Columns: [title, year, name, type, character, n]\n",
            "Index: []\n",
            "List the total number of actor and actress roles available from 1950 - 1960 234635\n",
            "                         title  year  ...         character     n\n",
            "66             Fire Down Below  1957  ...    Limbo Dance by  20.0\n",
            "67                De zaak M.P.  1960  ...    Hollandse boer  29.0\n",
            "68          Dorp aan de rivier  1958  ...          Dirk Jan  15.0\n",
            "111       Ci sposeremo a Capri  1956  ...        Themselves  19.0\n",
            "116        Thunder in Carolina  1960  ...        Themselves   NaN\n",
            "...                        ...   ...  ...               ...   ...\n",
            "3786059       Styrmand Karlsen  1958  ...         The Queen   9.0\n",
            "3786061  Tre piger fra Jylland  1957  ...         Frk. Lind   9.0\n",
            "3786075                   Toya  1956  ...  moren til Trygve  19.0\n",
            "3786083                 Venner  1960  ...        Kontordame   NaN\n",
            "3786094     Akdeniz korsanlari  1950  ...             Maria   2.0\n",
            "\n",
            "[234635 rows x 6 columns]\n",
            "List the total number of actor and actress roles available from 2007 - 2017 1452413\n",
            "                          title  year  ...                   character     n\n",
            "0                Closet Monster  2015  ...                     Buffy 4  31.0\n",
            "2           Battle of the Sexes  2017  ...             Bobby Riggs Fan  10.0\n",
            "3          Secret in Their Eyes  2015  ...             2002 Dodger Fan   NaN\n",
            "4                    Steve Jobs  2015  ...     1988 Opera House Patron   NaN\n",
            "5        Straight Outta Compton  2015  ...                 Club Patron   NaN\n",
            "...                         ...   ...  ...                         ...   ...\n",
            "3786159                Eldfjall  2011  ...                  Home Nurse   NaN\n",
            "3786160               Svanurinn  2017  ...                        ?l?f   NaN\n",
            "3786166               Foreldrar  2007  ...                Katrin Eldri   NaN\n",
            "3786167                 Rokland  2011  ...  A?albj?rg - Dagga's Mother   NaN\n",
            "3786168                      XL  2013  ...                 Tengdamamma   NaN\n",
            "\n",
            "[1452413 rows x 6 columns]\n",
            "List the total number of leading roles available from 2000 to present: 60568\n",
            "List the total number of nonleading roles available from 2000 to present: 1001710\n",
            "List the total number of support roles available from 2000 to present: 887484\n"
          ]
        }
      ]
    },
    {
      "cell_type": "code",
      "source": [
        "#Section II - Q1: Which years in the 2000s saw the most movies released? (Show top 3)\n",
        "year_most_released_movies = movies[movies.year > 1999]\n",
        "print(year_most_released_movies.year.value_counts()[:1])\n",
        "\n",
        "#Section II - Q2: # Plot the total number of films released per-decade (1890, 1900, 1910,....)\n",
        "\n",
        "per_decade = release_dates.groupby((release_dates.year//10)*10).sum()\n",
        "per_decade.plot(kind='barh')\n",
        "\n",
        "\n"
      ],
      "metadata": {
        "colab": {
          "base_uri": "https://localhost:8080/",
          "height": 331
        },
        "id": "ZA_FtsJWDtcQ",
        "outputId": "1091ade3-3a98-43be-b3ea-05f409ced82f"
      },
      "execution_count": 3,
      "outputs": [
        {
          "output_type": "stream",
          "name": "stdout",
          "text": [
            "2017    11474\n",
            "Name: year, dtype: int64\n"
          ]
        },
        {
          "output_type": "execute_result",
          "data": {
            "text/plain": [
              "<matplotlib.axes._subplots.AxesSubplot at 0x7fc0ef116610>"
            ]
          },
          "metadata": {},
          "execution_count": 3
        },
        {
          "output_type": "display_data",
          "data": {
            "image/png": "[encoded data removed]",
            "text/plain": [
              "<Figure size 432x288 with 1 Axes>"
            ]
          },
          "metadata": {
            "needs_background": "light"
          }
        }
      ]
    },
    {
      "cell_type": "code",
      "source": [
        "'''\n",
        "Section II - Q3:\n",
        "(A) What are the top 10 most common character names in movie history?\n",
        "(B) Who are the top 10 people most often credited as \"Herself\" in movie history?\n",
        "(C) Who are the top 10 people most often credited as \"Himself\" in movie history?\n",
        "'''\n",
        "\n",
        "top_ten = cast.character.value_counts()[:10]\n",
        "print(top_ten)\n",
        "\n",
        "onlyHerself = cast[cast.character == 'Herself']\n",
        "top_ten_herself = onlyHerself.name.value_counts()[:10]\n",
        "print(top_ten_herself)\n",
        "\n",
        "onlyHimself = cast[cast.character == 'Himself']\n",
        "top_ten_himself = onlyHimself.name.value_counts()[:10]\n",
        "print(top_ten_himself)"
      ],
      "metadata": {
        "colab": {
          "base_uri": "https://localhost:8080/"
        },
        "id": "AZ7dEj-J02CT",
        "outputId": "54b7fe2f-e396-4dbf-91e0-1897e5cba560"
      },
      "execution_count": 20,
      "outputs": [
        {
          "output_type": "stream",
          "name": "stdout",
          "text": [
            "Himself        20746\n",
            "Dancer         12477\n",
            "Extra          11948\n",
            "Reporter        8434\n",
            "Student         7773\n",
            "Doctor          7669\n",
            "Party Guest     7245\n",
            "Policeman       7029\n",
            "Nurse           6999\n",
            "Bartender       6802\n",
            "Name: character, dtype: int64\n",
            "Queen Elizabeth II           12\n",
            "Joyce Brothers                9\n",
            "Luisa Horga                   9\n",
            "Mar?a Luisa (V) Mart?n        9\n",
            "Margaret Thatcher             8\n",
            "Hillary Clinton               8\n",
            "In?s J. Southern              6\n",
            "Mar?a Isabel (III) Mart?n     6\n",
            "Marta Berrocal                6\n",
            "Sumie Sakai                   6\n",
            "Name: name, dtype: int64\n",
            "Adolf Hitler             99\n",
            "Richard Nixon            44\n",
            "Ronald Reagan            41\n",
            "John F. Kennedy          37\n",
            "George W. Bush           25\n",
            "Winston Churchill        24\n",
            "Martin Luther King       23\n",
            "Ron Jeremy               22\n",
            "Bill Clinton             22\n",
            "Franklin D. Roosevelt    21\n",
            "Name: name, dtype: int64\n"
          ]
        }
      ]
    },
    {
      "cell_type": "code",
      "source": [
        "'''\n",
        "Section II - Q4:\n",
        "(A) What are the top 10 most frequent roles that start with the word \"Zombie\"?\n",
        "\n",
        "(B) What are the top 10 most frequent roles that start with the word \"Police\"?\n",
        "'''\n",
        "zombie = cast[cast.character.str.startswith(\"Zombie\")]\n",
        "top_ten_zombie = zombie.character.value_counts()[:10]\n",
        "print(top_ten_zombie)\n",
        "\n",
        "police = cast[cast.character.str.startswith(\"Police\")]\n",
        "top_ten_police = police.character.value_counts()[:10]\n",
        "print(top_ten_police)\n"
      ],
      "metadata": {
        "colab": {
          "base_uri": "https://localhost:8080/"
        },
        "id": "611PNgDSGnbY",
        "outputId": "2dd2ce91-517a-4713-dd8c-0e1f5a0e944b"
      },
      "execution_count": 23,
      "outputs": [
        {
          "output_type": "stream",
          "name": "stdout",
          "text": [
            "Zombie                         6264\n",
            "Zombie Horde                    206\n",
            "Zombie - Protestor - Victim      78\n",
            "Zombie Extra                     70\n",
            "Zombie Dancer                    43\n",
            "Zombie Girl                      36\n",
            "Zombie #1                        36\n",
            "Zombie #2                        31\n",
            "Zombie Vampire                   25\n",
            "Zombie Victim                    22\n",
            "Name: character, dtype: int64\n",
            "Policeman              7029\n",
            "Police Officer         4808\n",
            "Police Inspector        742\n",
            "Police Sergeant         674\n",
            "Police officer          539\n",
            "Police                  456\n",
            "Policewoman             415\n",
            "Police Chief            410\n",
            "Police Captain          387\n",
            "Police Commissioner     337\n",
            "Name: character, dtype: int64\n"
          ]
        }
      ]
    },
    {
      "cell_type": "code",
      "source": [
        "#Section II - Q5: Plot how many roles 'Keanu Reeves' has played in each year of his career.\n",
        "keanu = cast[cast.name.str.fullmatch(\"Keanu Reeves\", case=False)]\n",
        "keanu_by_year = keanu.year.value_counts()\n",
        "keanu_by_year_sorted = keanu_by_year.sort_index()\n",
        "keanu_by_year_sorted.plot(kind='barh')\n"
      ],
      "metadata": {
        "colab": {
          "base_uri": "https://localhost:8080/",
          "height": 284
        },
        "id": "DOtfh49Kfno0",
        "outputId": "f32251c7-f41e-4eaf-dcf8-b7c4bb2b8d1d"
      },
      "execution_count": 41,
      "outputs": [
        {
          "output_type": "execute_result",
          "data": {
            "text/plain": [
              "<matplotlib.axes._subplots.AxesSubplot at 0x7f9b3160da50>"
            ]
          },
          "metadata": {},
          "execution_count": 41
        },
        {
          "output_type": "display_data",
          "data": {
            "image/png": "[encoded data removed]",
            "text/plain": [
              "<Figure size 432x288 with 1 Axes>"
            ]
          },
          "metadata": {
            "needs_background": "light"
          }
        }
      ]
    },
    {
      "cell_type": "code",
      "source": [
        "#Section II - Q6: Plot the cast positions (n-values) of Keanu Reeve's roles through his career over the years.\n",
        "keanu = cast[(cast.name.str.fullmatch(\"Keanu Reeves\", case=False)) & (cast.n.notnull())]\n",
        "#keanu.plot(x=['year'],y=['n'], kind='barh')\n",
        "keanu.groupby(\"year\")['n'].mean().plot(kind='bar')\n"
      ],
      "metadata": {
        "colab": {
          "base_uri": "https://localhost:8080/",
          "height": 313
        },
        "id": "DRpGI-Rw8p5e",
        "outputId": "b1b8e489-6f6e-4d50-e570-ec361248cf42"
      },
      "execution_count": 154,
      "outputs": [
        {
          "output_type": "execute_result",
          "data": {
            "text/plain": [
              "<matplotlib.axes._subplots.AxesSubplot at 0x7f9b31c0a7d0>"
            ]
          },
          "metadata": {},
          "execution_count": 154
        },
        {
          "output_type": "display_data",
          "data": {
            "image/png": "[encoded data removed]",
            "text/plain": [
              "<Figure size 432x288 with 1 Axes>"
            ]
          },
          "metadata": {
            "needs_background": "light"
          }
        }
      ]
    },
    {
      "cell_type": "code",
      "source": [
        "#Section II - Q7: Plot the number of \"Hamlet\" films made by each decade\n",
        "\n",
        "hamlet = movies[movies.title.str.contains('Hamlet',case=False)]\n",
        "hamlet_grouped = hamlet.groupby((hamlet.year//10)*10).count()\n",
        "hamlet_grouped.plot(y=1, kind='bar',legend=False)"
      ],
      "metadata": {
        "colab": {
          "base_uri": "https://localhost:8080/",
          "height": 313
        },
        "id": "igiiJOnRYncS",
        "outputId": "8e3c525b-aed5-4256-d352-cc33d6b0c298"
      },
      "execution_count": 81,
      "outputs": [
        {
          "output_type": "execute_result",
          "data": {
            "text/plain": [
              "<matplotlib.axes._subplots.AxesSubplot at 0x7f9b30625510>"
            ]
          },
          "metadata": {},
          "execution_count": 81
        },
        {
          "output_type": "display_data",
          "data": {
            "image/png": "[encoded data removed]",
            "text/plain": [
              "<Figure size 432x288 with 1 Axes>"
            ]
          },
          "metadata": {
            "needs_background": "light"
          }
        }
      ]
    },
    {
      "cell_type": "code",
      "source": [
        "'''\n",
        "Section II - Q8:\n",
        "(A) How many leading roles were available to both actors and actresses, in the 1960s (1960-1969)?\n",
        "\n",
        "(B) How many leading roles were available to both actors and actresses, in the 2000s (2000-2009)?\n",
        "\n",
        "Hint: A specific value of n might indicate a leading role\n",
        "'''\n",
        "\n",
        "leading_role_1960 = cast[(cast.n == 1) & (cast.year >1959) & (cast.year < 1970)]\n",
        "print('leading roles were available to both actors and actresses, in the 1960s',len(leading_role_1960))\n",
        "\n",
        "leading_role_2000 = cast[(cast.n == 1) & (cast.year >1999) & (cast.year < 2010)]\n",
        "print('leading roles were available to both actors and actresses, in the 2000s',len(leading_role_2000))"
      ],
      "metadata": {
        "colab": {
          "base_uri": "https://localhost:8080/"
        },
        "id": "9_PI3zTYjWO5",
        "outputId": "72b6f024-7fed-46c8-9156-27553b46ed5f"
      },
      "execution_count": 104,
      "outputs": [
        {
          "output_type": "stream",
          "name": "stdout",
          "text": [
            "leading roles were available to both actors and actresses, in the 1960s 11823\n",
            "leading roles were available to both actors and actresses, in the 2000s 26344\n"
          ]
        }
      ]
    },
    {
      "cell_type": "code",
      "source": [
        "#Section II - Q9: List, in order by year, each of the films in which Frank Oz has played more than 1 role.\n",
        "frank = cast[cast.name.str.fullmatch('Frank Oz', case=False)]\n",
        "films = frank.groupby([frank.year,frank.title]).size()\n",
        "print(films[films>1])\n"
      ],
      "metadata": {
        "colab": {
          "base_uri": "https://localhost:8080/"
        },
        "id": "gsmA_vnVvkmP",
        "outputId": "b90432a8-d9fe-4655-d7c2-e6e0f4a86f78"
      },
      "execution_count": 118,
      "outputs": [
        {
          "output_type": "stream",
          "name": "stdout",
          "text": [
            "year  title                               \n",
            "1979  The Muppet Movie                        8\n",
            "1981  An American Werewolf in London          2\n",
            "      The Great Muppet Caper                  6\n",
            "1982  The Dark Crystal                        2\n",
            "1984  The Muppets Take Manhattan              7\n",
            "1985  Follow That Bird                        3\n",
            "1992  The Muppet Christmas Carol              7\n",
            "1996  Muppet Treasure Island                  4\n",
            "1999  Muppets from Space                      4\n",
            "      The Adventures of Elmo in Grouchland    3\n",
            "dtype: int64\n"
          ]
        }
      ]
    },
    {
      "cell_type": "code",
      "source": [
        "#Section II - Q10: List each of the characters that Frank Oz has portrayed at least twice\n",
        "frank = cast[cast.name.str.fullmatch('Frank Oz', case=False)]\n",
        "char = frank.groupby(frank.character).size()\n",
        "print(char[char>1])"
      ],
      "metadata": {
        "colab": {
          "base_uri": "https://localhost:8080/"
        },
        "id": "Rl5EKIAT09tq",
        "outputId": "611eb77e-f0b1-4890-96a1-13c482d9ca2c"
      },
      "execution_count": 124,
      "outputs": [
        {
          "output_type": "stream",
          "name": "stdout",
          "text": [
            "character\n",
            "Animal            6\n",
            "Bert              3\n",
            "Cookie Monster    5\n",
            "Fozzie Bear       4\n",
            "Grover            2\n",
            "Miss Piggy        6\n",
            "Sam the Eagle     5\n",
            "Yoda              6\n",
            "dtype: int64\n"
          ]
        }
      ]
    },
    {
      "cell_type": "code",
      "source": [
        "'''\n",
        "Section III - Q1: Make a bar plot with the following conditions\n",
        "Frequency of the number of movies with \"Summer\" in their title\n",
        "Movies should be such that they are released in the USA.\n",
        "Show the frequency plot by month\n",
        "'''\n",
        "summer = release_dates[(release_dates.title.str.contains('Summer',case=False)) & (release_dates.country == 'USA')]\n",
        "summer.date.dt.month.value_counts().sort_index().plot(kind='bar')"
      ],
      "metadata": {
        "colab": {
          "base_uri": "https://localhost:8080/",
          "height": 286
        },
        "id": "hKmTkHEN1sZm",
        "outputId": "0eb68ffa-f8a3-4d6c-9e7a-d192448a8b35"
      },
      "execution_count": 125,
      "outputs": [
        {
          "output_type": "execute_result",
          "data": {
            "text/plain": [
              "<matplotlib.axes._subplots.AxesSubplot at 0x7f9b304cdf10>"
            ]
          },
          "metadata": {},
          "execution_count": 125
        },
        {
          "output_type": "display_data",
          "data": {
            "image/png": "[encoded data removed]",
            "text/plain": [
              "<Figure size 432x288 with 1 Axes>"
            ]
          },
          "metadata": {
            "needs_background": "light"
          }
        }
      ]
    },
    {
      "cell_type": "code",
      "source": [
        "'''\n",
        "Section III - Q2: Make a bar plot with the following conditions\n",
        "Frequency of the number of movies with \"Action\" in their title\n",
        "Movies should be such that they are released in the USA.\n",
        "Show the frequency plot by week\n",
        "'''\n",
        "action = release_dates[(release_dates.title.str.contains('Action',case=False)) & (release_dates.country == 'USA')]\n",
        "summer.date.dt.week.value_counts().sort_index().plot(kind='bar')"
      ],
      "metadata": {
        "colab": {
          "base_uri": "https://localhost:8080/",
          "height": 341
        },
        "id": "bl81rZIz3Jj_",
        "outputId": "0f4278a1-6d8a-4be6-caf1-edc85a8bc058"
      },
      "execution_count": 126,
      "outputs": [
        {
          "output_type": "stream",
          "name": "stderr",
          "text": [
            "/usr/local/lib/python3.7/dist-packages/ipykernel_launcher.py:8: FutureWarning: Series.dt.weekofyear and Series.dt.week have been deprecated.  Please use Series.dt.isocalendar().week instead.\n",
            "  \n"
          ]
        },
        {
          "output_type": "execute_result",
          "data": {
            "text/plain": [
              "<matplotlib.axes._subplots.AxesSubplot at 0x7f9b3045b250>"
            ]
          },
          "metadata": {},
          "execution_count": 126
        },
        {
          "output_type": "display_data",
          "data": {
            "image/png": "[encoded data removed]",
            "text/plain": [
              "<Figure size 432x288 with 1 Axes>"
            ]
          },
          "metadata": {
            "needs_background": "light"
          }
        }
      ]
    },
    {
      "cell_type": "code",
      "source": [
        "#Section III - Q3: Show all the movies in which Keanu Reeves has played the lead role along with their release date in the USA sorted by the date of release\n",
        "lead = cast[(cast.n == 1) & (cast.name.str.fullmatch('Keanu Reeves', case=False))]\n",
        "usa = release_dates[release_dates.country == 'USA']\n",
        "lead_usa = pd.merge(lead,usa,how=\"inner\",on=[\"title\",\"year\"])\n",
        "print(lead_usa.title)\n"
      ],
      "metadata": {
        "colab": {
          "base_uri": "https://localhost:8080/"
        },
        "id": "dYlsYTkv3ZGZ",
        "outputId": "d64b2615-0219-4086-abeb-0d8b42454865"
      },
      "execution_count": 149,
      "outputs": [
        {
          "output_type": "stream",
          "name": "stdout",
          "text": [
            "0                             47 Ronin\n",
            "1                 A Walk in the Clouds\n",
            "2           Bill & Ted's Bogus Journey\n",
            "3     Bill & Ted's Excellent Adventure\n",
            "4                       Chain Reaction\n",
            "5                          Constantine\n",
            "6                    Feeling Minnesota\n",
            "7                            Hard Ball\n",
            "8                            John Wick\n",
            "9                 John Wick: Chapter 2\n",
            "10                     Johnny Mnemonic\n",
            "11                         Knock Knock\n",
            "12                       Little Buddha\n",
            "13                               Speed\n",
            "14                        Street Kings\n",
            "15                      Sweet November\n",
            "16       The Day the Earth Stood Still\n",
            "17                The Devil's Advocate\n",
            "18                      The Lake House\n",
            "19                          The Matrix\n",
            "20                    The Night Before\n",
            "21                    The Replacements\n",
            "Name: title, dtype: object\n"
          ]
        }
      ]
    },
    {
      "cell_type": "code",
      "source": [
        "#Section III - Q4: Make a bar plot showing the months in which movies with Keanu Reeves tend to be released in the USA?\n",
        "usa = release_dates[release_dates.country == 'USA']\n",
        "keanu = cast[cast.name.str.fullmatch('Keanu Reeves', case=False)]\n",
        "keanu_usa = pd.merge(keanu,usa,how=\"inner\",on=[\"title\",\"year\"])\n",
        "keanu_usa.date.dt.month.value_counts().sort_index().plot(kind='bar')\n",
        "#print(keanu_usa)\n"
      ],
      "metadata": {
        "colab": {
          "base_uri": "https://localhost:8080/",
          "height": 286
        },
        "id": "J3V3wPrw59Ex",
        "outputId": "5c3825e8-495e-4b74-c84c-79bb4f3d6949"
      },
      "execution_count": 151,
      "outputs": [
        {
          "output_type": "execute_result",
          "data": {
            "text/plain": [
              "<matplotlib.axes._subplots.AxesSubplot at 0x7f9b2fc390d0>"
            ]
          },
          "metadata": {},
          "execution_count": 151
        },
        {
          "output_type": "display_data",
          "data": {
            "image/png": "[encoded data removed]",
            "text/plain": [
              "<Figure size 432x288 with 1 Axes>"
            ]
          },
          "metadata": {
            "needs_background": "light"
          }
        }
      ]
    },
    {
      "cell_type": "code",
      "source": [
        "#Section III - Q5: Make a bar plot showing the years in which movies with Ian McKellen tend to be released in the USA?\n",
        "usa = release_dates[release_dates.country == 'USA']\n",
        "ian = cast[cast.name.str.fullmatch('Ian McKellen', case=False)]\n",
        "ian_usa = pd.merge(ian,usa,how=\"inner\",on=[\"title\",\"year\"])\n",
        "ian_usa.date.dt.year.value_counts().sort_index().plot(kind='bar')\n",
        "#print(ian_usa)\n"
      ],
      "metadata": {
        "colab": {
          "base_uri": "https://localhost:8080/",
          "height": 299
        },
        "id": "IsimIjza_6t9",
        "outputId": "98f0c892-4136-4d7b-ece6-02fa155ab50e"
      },
      "execution_count": 153,
      "outputs": [
        {
          "output_type": "execute_result",
          "data": {
            "text/plain": [
              "<matplotlib.axes._subplots.AxesSubplot at 0x7f9b31a3ec90>"
            ]
          },
          "metadata": {},
          "execution_count": 153
        },
        {
          "output_type": "display_data",
          "data": {
            "image/png": "[encoded data removed]",
            "text/plain": [
              "<Figure size 432x288 with 1 Axes>"
            ]
          },
          "metadata": {
            "needs_background": "light"
          }
        }
      ]
    }
  ]
}
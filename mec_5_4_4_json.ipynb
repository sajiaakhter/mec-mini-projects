{
  "nbformat": 4,
  "nbformat_minor": 0,
  "metadata": {
    "colab": {
      "name": "mec-5.4.4-json.ipynb",
      "provenance": [],
      "collapsed_sections": [],
      "authorship_tag": "ABX9TyOVtVEsXpCbUFqBdRkcAeYf",
      "include_colab_link": true
    },
    "kernelspec": {
      "name": "python3",
      "display_name": "Python 3"
    },
    "language_info": {
      "name": "python"
    }
  },
  "cells": [
    {
      "cell_type": "markdown",
      "metadata": {
        "id": "view-in-github",
        "colab_type": "text"
      },
      "source": [
        "<a href=\"https://colab.research.google.com/github/sajiaakhter/mec-mini-projects/blob/master/mec_5_4_4_json.ipynb\" target=\"_parent\"><img src=\"https://colab.research.google.com/assets/colab-badge.svg\" alt=\"Open In Colab\"/></a>"
      ]
    },
    {
      "cell_type": "code",
      "execution_count": 1,
      "metadata": {
        "id": "E1D2h971UzON"
      },
      "outputs": [],
      "source": [
        "import pandas as pd\n",
        "import json\n",
        "from pandas.io.json import json_normalize"
      ]
    },
    {
      "cell_type": "code",
      "source": [
        "json_df = pd.read_json('https://raw.githubusercontent.com/springboard-curriculum/mec-mini-projects/master/mec-5.4.4-json-data-wrangling-mini-project/data/world_bank_projects.json')\n",
        "print(json_df.info())\n",
        "print(json_df.head(10))\n"
      ],
      "metadata": {
        "id": "zahmtPxdU57P"
      },
      "execution_count": null,
      "outputs": []
    },
    {
      "cell_type": "code",
      "source": [
        "#1. Find the 10 countries with most projects\n",
        "countries = json_df.countryname.value_counts()\n",
        "print(countries[:10])"
      ],
      "metadata": {
        "colab": {
          "base_uri": "https://localhost:8080/"
        },
        "id": "L9B2wcM4oBD7",
        "outputId": "9a40d9c9-c786-4a3e-cd03-6d7dacab3fa9"
      },
      "execution_count": 3,
      "outputs": [
        {
          "output_type": "stream",
          "name": "stdout",
          "text": [
            "Republic of Indonesia              19\n",
            "People's Republic of China         19\n",
            "Socialist Republic of Vietnam      17\n",
            "Republic of India                  16\n",
            "Republic of Yemen                  13\n",
            "People's Republic of Bangladesh    12\n",
            "Nepal                              12\n",
            "Kingdom of Morocco                 12\n",
            "Africa                             11\n",
            "Republic of Mozambique             11\n",
            "Name: countryname, dtype: int64\n"
          ]
        }
      ]
    },
    {
      "cell_type": "code",
      "source": [
        "#2. Find the top 10 major project themes (using column 'mjtheme_namecode')\n",
        "\n",
        "projects = pd.json_normalize(json_df.mjtheme_namecode)\n",
        "print(projects)\n",
        "\n"
      ],
      "metadata": {
        "colab": {
          "base_uri": "https://localhost:8080/"
        },
        "id": "3cWNsL0OqsQg",
        "outputId": "57ef071c-1e47-475b-b478-7b0b6ce89188"
      },
      "execution_count": 6,
      "outputs": [
        {
          "output_type": "stream",
          "name": "stdout",
          "text": [
            "                                                     0  ...     4\n",
            "0           {'code': '8', 'name': 'Human development'}  ...  None\n",
            "1         {'code': '1', 'name': 'Economic management'}  ...  None\n",
            "2       {'code': '5', 'name': 'Trade and integration'}  ...  None\n",
            "3    {'code': '7', 'name': 'Social dev/gender/inclu...  ...  None\n",
            "4       {'code': '5', 'name': 'Trade and integration'}  ...  None\n",
            "..                                                 ...  ...   ...\n",
            "495  {'code': '4', 'name': 'Financial and private s...  ...  None\n",
            "496         {'code': '8', 'name': 'Human development'}  ...  None\n",
            "497        {'code': '10', 'name': 'Rural development'}  ...  None\n",
            "498        {'code': '10', 'name': 'Rural development'}  ...  None\n",
            "499         {'code': '9', 'name': 'Urban development'}  ...  None\n",
            "\n",
            "[500 rows x 5 columns]\n"
          ]
        }
      ]
    },
    {
      "cell_type": "code",
      "source": [
        "#3. In 2. above you will notice that some entries have only the code and the name is missing. Create a dataframe with the missing names filled in.\n"
      ],
      "metadata": {
        "id": "kh-OReun0ph2"
      },
      "execution_count": null,
      "outputs": []
    }
  ]
}
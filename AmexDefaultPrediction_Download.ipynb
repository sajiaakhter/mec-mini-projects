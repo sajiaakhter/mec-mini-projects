{
  "nbformat": 4,
  "nbformat_minor": 0,
  "metadata": {
    "colab": {
      "provenance": [],
      "authorship_tag": "ABX9TyNaEFyJrcaczkWYL7k6WrXF",
      "include_colab_link": true
    },
    "kernelspec": {
      "name": "python3",
      "display_name": "Python 3"
    },
    "language_info": {
      "name": "python"
    }
  },
  "cells": [
    {
      "cell_type": "markdown",
      "metadata": {
        "id": "view-in-github",
        "colab_type": "text"
      },
      "source": [
        "<a href=\"https://colab.research.google.com/github/sajiaakhter/mec-mini-projects/blob/master/AmexDefaultPrediction_Download.ipynb\" target=\"_parent\"><img src=\"https://colab.research.google.com/assets/colab-badge.svg\" alt=\"Open In Colab\"/></a>"
      ]
    },
    {
      "cell_type": "markdown",
      "source": [
        "**Downloading kaggle data in Google Colab**\n"
      ],
      "metadata": {
        "id": "comNizO4HhKb"
      }
    },
    {
      "cell_type": "code",
      "execution_count": null,
      "metadata": {
        "id": "KPs7cyosHCMT"
      },
      "outputs": [],
      "source": [
        "! pip install -q kaggle\n"
      ]
    },
    {
      "cell_type": "code",
      "source": [
        "#before running copy kaggle.json using current APi\n",
        "! mkdir ~/.kaggle\n",
        "! cp /kaggle.json ~/.kaggle/\n",
        "! chmod 600 ~/.kaggle/kaggle.json\n"
      ],
      "metadata": {
        "id": "eT3D1SA_G-eU"
      },
      "execution_count": null,
      "outputs": []
    },
    {
      "cell_type": "code",
      "source": [
        "! ls -al /root/.kaggle/\n",
        "!kaggle datasets list"
      ],
      "metadata": {
        "id": "HNhHHbYjAhzu"
      },
      "execution_count": null,
      "outputs": []
    },
    {
      "cell_type": "markdown",
      "source": [
        "*`Downloading Amex data`*"
      ],
      "metadata": {
        "id": "-7Mg73uVHz0j"
      }
    },
    {
      "cell_type": "code",
      "source": [
        "! kaggle competitions download -c amex-default-prediction\n"
      ],
      "metadata": {
        "colab": {
          "base_uri": "https://localhost:8080/"
        },
        "id": "EQm8NB38HNpp",
        "outputId": "860470fc-9f86-4fd5-d148-ac29a33db43d"
      },
      "execution_count": null,
      "outputs": [
        {
          "output_type": "stream",
          "name": "stdout",
          "text": [
            "Downloading amex-default-prediction.zip to /content\n",
            "100% 20.5G/20.5G [03:29<00:00, 64.1MB/s]\n",
            "100% 20.5G/20.5G [03:29<00:00, 105MB/s] \n"
          ]
        }
      ]
    },
    {
      "cell_type": "markdown",
      "source": [
        "*`Copy data to google drive`*\n",
        "\n",
        "\n",
        "\n",
        "\n"
      ],
      "metadata": {
        "id": "8djFskNxT7Sv"
      }
    },
    {
      "cell_type": "code",
      "source": [
        "#mount google drive\n",
        "from google.colab import drive\n",
        "drive.mount('/content/gdrive')"
      ],
      "metadata": {
        "id": "vKk4vuTKUAQS"
      },
      "execution_count": null,
      "outputs": []
    },
    {
      "cell_type": "code",
      "source": [
        "#Unzip data to google drive\n",
        "! mkdir /content/gdrive/MyDrive/amex_default_prediction\n",
        "! unzip /content/amex-default-prediction.zip -d /content/gdrive/MyDrive/amex_default_prediction"
      ],
      "metadata": {
        "colab": {
          "base_uri": "https://localhost:8080/"
        },
        "id": "QVz-iDzUIlil",
        "outputId": "eb801651-ca25-4601-8a3b-8a1155e7b442"
      },
      "execution_count": null,
      "outputs": [
        {
          "output_type": "stream",
          "name": "stdout",
          "text": [
            "Archive:  /content/amex-default-prediction.zip\n",
            "  inflating: /content/gdrive/MyDrive/amex_default_prediction/sample_submission.csv  \n",
            "  inflating: /content/gdrive/MyDrive/amex_default_prediction/test_data.csv  "
          ]
        }
      ]
    },
    {
      "cell_type": "markdown",
      "source": [
        "**Data Wrangling**"
      ],
      "metadata": {
        "id": "ufCTgMnsMxy1"
      }
    },
    {
      "cell_type": "code",
      "source": [
        "import numpy as np\n",
        "import pandas as pd\n"
      ],
      "metadata": {
        "id": "mLG3dJAYNJlE"
      },
      "execution_count": null,
      "outputs": []
    },
    {
      "cell_type": "code",
      "source": [
        "train = pd.read_csv('amex_default_prediction/train_data.csv')"
      ],
      "metadata": {
        "id": "BaIZd-8ONjT6"
      },
      "execution_count": null,
      "outputs": []
    }
  ]
}